{
 "cells": [
  {
   "cell_type": "code",
   "execution_count": 111,
   "metadata": {},
   "outputs": [],
   "source": [
    "%matplotlib inline\n",
    "import matplotlib.pyplot as plt\n",
    "import cell_tree2d\n",
    "import xmitgcm\n",
    "import xgcm\n",
    "import numpy as np"
   ]
  },
  {
   "cell_type": "code",
   "execution_count": 112,
   "metadata": {},
   "outputs": [],
   "source": [
    "llc90_extra_metadata = xmitgcm.utils.get_extra_metadata(domain='llc', nx=90)\n",
    "grid = xmitgcm.utils.get_grid_from_input('/swot/SUM01/spencer/ECCO_diags/tile<NFACET>.mitgrid',\n",
    "                                         geometry='llc',\n",
    "                                         extra_metadata=llc90_extra_metadata)\n",
    "blankList=[1,2,3,5,6,28,29,30,31,32,33,49,50,52,53,72,81,90,99,108,117]\n",
    "#note that the blank list is given starting at 1. We will not alter this, so that people\n",
    "#can just copy the input"
   ]
  },
  {
   "cell_type": "code",
   "execution_count": 113,
   "metadata": {},
   "outputs": [
    {
     "data": {
      "text/plain": [
       "{'has_faces': True,\n",
       " 'ny': 1170,\n",
       " 'nx': 90,\n",
       " 'ny_facets': [270, 270, 90, 270, 270],\n",
       " 'face_facets': [0, 0, 0, 1, 1, 1, 2, 3, 3, 3, 4, 4, 4],\n",
       " 'facet_orders': ['C', 'C', 'C', 'F', 'F'],\n",
       " 'face_offsets': [0, 1, 2, 0, 1, 2, 0, 0, 1, 2, 0, 1, 2],\n",
       " 'transpose_face': [False,\n",
       "  False,\n",
       "  False,\n",
       "  False,\n",
       "  False,\n",
       "  False,\n",
       "  False,\n",
       "  True,\n",
       "  True,\n",
       "  True,\n",
       "  True,\n",
       "  True,\n",
       "  True]}"
      ]
     },
     "execution_count": 113,
     "metadata": {},
     "output_type": "execute_result"
    }
   ],
   "source": [
    "llc90_extra_metadata"
   ]
  },
  {
   "cell_type": "code",
   "execution_count": 114,
   "metadata": {},
   "outputs": [],
   "source": [
    "from dask.base import tokenize\n",
    "import dask.array as dsa\n",
    "from functools import reduce\n",
    "import os\n",
    "import xarray as xr\n",
    "\n",
    "\n",
    "def get_xg_yg_from_input(gridfile, nx=None, ny=None, geometry='llc',\n",
    "                        dtype=np.dtype('d'), endian='>', use_dask=False,\n",
    "                        extra_metadata=None, tilex=30, tiley=30):\n",
    "    \"\"\" \n",
    "    Read grid variables from grid input files, this is especially useful\n",
    "    for llc and cube sphere configurations used with land tiles\n",
    "    elimination. Reading the input grid files (e.g. tile00[1-5].mitgrid)\n",
    "    allows to fill in the blanks of eliminated land tiles.\n",
    "    PARAMETERS\n",
    "    ----------\n",
    "    gridfile : str\n",
    "        gridfile must contain <NFACET> as wildcard (e.g. tile<NFACET>.mitgrid)\n",
    "    nx : int\n",
    "        size of the face in the x direction\n",
    "    ny : int\n",
    "        size of the face in the y direction\n",
    "    geometry : str\n",
    "        domain geometry can be llc, cs or carthesian not supported yet\n",
    "    dtype : np.dtype\n",
    "        numeric precision (single/double) of input data\n",
    "    endian : string\n",
    "        endianness of input data\n",
    "    use_dask : bool\n",
    "        use dask or not\n",
    "    extra_metadata : dict\n",
    "        dictionary of extra metadata, needed for llc configurations\n",
    "    RETURNS\n",
    "    ------- \n",
    "    grid : xarray.Dataset\n",
    "        all grid variables\n",
    "    \"\"\"\n",
    "\n",
    "    file_metadata = {}\n",
    "    # grid variables are stored in this order\n",
    "    file_metadata['fldList'] = ['XC', 'YC', 'DXF', 'DYF', 'RAC',\n",
    "                                'XG', 'YG', 'DXV', 'DYU', 'RAZ',\n",
    "                                'DXC', 'DYC', 'RAW', 'RAS', 'DXG', 'DYG']\n",
    "\n",
    "    file_metadata['vars'] = file_metadata['fldList']\n",
    "    dims_vars_list = []\n",
    "    for var in file_metadata['fldList']:\n",
    "        dims_vars_list.append(('ny', 'nx'))\n",
    "    file_metadata['dims_vars'] = dims_vars_list\n",
    "\n",
    "    # no vertical levels or time records\n",
    "    file_metadata['nz'] = 1\n",
    "    file_metadata['nt'] = 1\n",
    "\n",
    "# for curvilinear non-facet grids (TO DO)\n",
    "#    if nx is not None:\n",
    "#        file_metadata['nx'] = nx\n",
    "#    if ny is not None:\n",
    "#        file_metadata['ny'] = ny\n",
    "    if extra_metadata is not None:\n",
    "        file_metadata.update(extra_metadata)\n",
    "\n",
    "    # numeric representation\n",
    "    file_metadata['endian'] = endian\n",
    "    file_metadata['dtype'] = dtype\n",
    "\n",
    "    if geometry == 'llc':\n",
    "        nfacets = 5\n",
    "        try:\n",
    "            nfaces = len(file_metadata['face_facets'])\n",
    "        except:\n",
    "            raise ValueError('metadata must contain face_facets')\n",
    "    if geometry == 'cs':  # pragma: no cover\n",
    "        raise NotImplementedError(\"'cs' geometry is not supported yet\")\n",
    "\n",
    "    # create placeholders for data\n",
    "    gridfields = {}\n",
    "    for field in ['XG', 'YG']:#\n",
    "        gridfields.update({field: None})\n",
    "\n",
    "    if geometry == 'llc':\n",
    "        tileno=0\n",
    "        dummy=0\n",
    "        for kfacet in range(nfacets):\n",
    "            # we need to adapt the metadata to the grid file\n",
    "            grid_metadata = file_metadata.copy()\n",
    "\n",
    "            fname = gridfile.replace('<NFACET>', str(kfacet+1).zfill(3))\n",
    "            grid_metadata['filename'] = fname\n",
    "\n",
    "            if file_metadata['facet_orders'][kfacet] == 'C':\n",
    "                nxgrid = file_metadata['nx'] + 1\n",
    "                nygrid = file_metadata['ny_facets'][kfacet] + 1\n",
    "            elif file_metadata['facet_orders'][kfacet] == 'F':\n",
    "                nxgrid = file_metadata['ny_facets'][kfacet] + 1\n",
    "                nygrid = file_metadata['nx'] + 1\n",
    "\n",
    "            grid_metadata.update({'nx': nxgrid, 'ny': nygrid,\n",
    "                                  'has_faces': False})\n",
    "\n",
    "            raw = read_all_variables(grid_metadata['vars'], grid_metadata,\n",
    "                                     use_dask=use_dask)\n",
    "\n",
    "            rawfields = {}\n",
    "            for kfield in np.arange(len(file_metadata['fldList'])):\n",
    "\n",
    "                rawfields.update(\n",
    "                    {file_metadata['fldList'][kfield]: raw[kfield]})\n",
    "                \n",
    "            tiles_on_facet=(nxgrid-1)*(nygrid-1)//tilex//tiley\n",
    "            tile_in_x=(nxgrid-1)//tilex\n",
    "            tile_in_y=(nygrid-1)//tiley\n",
    "\n",
    "            for field in ['XG', 'YG']:\n",
    "                if field =='XG':\n",
    "                    save_tile=tileno\n",
    "                else:\n",
    "                    tileno=save_tile\n",
    "                    if kfacet == 0:\n",
    "                        dummy=0\n",
    "                # symetrize\n",
    "                tmp = rawfields[field][:, :, :, :].squeeze()\n",
    "                # transpose\n",
    "                if grid_metadata['facet_orders'][kfacet] == 'F':\n",
    "                    tmp = tmp.transpose()\n",
    "\n",
    "                for tileon in range(0,tiles_on_facet):\n",
    "                    tileno=tileno+1\n",
    "                    if tileno not in blankList:\n",
    "                        offsety=(tileon//tile_in_x)\n",
    "                        offsetx=(tileon-offsety*tile_in_x)\n",
    "                        #transpose facet if needed\n",
    "                        tmpt=tmp\n",
    "                        if file_metadata['facet_orders'][kfacet] == 'F':\n",
    "                            tmpt=tmp.transpose()\n",
    "                        # extract the data\n",
    "                        dataface = tmpt[offsety*tiley:(offsety+1)*tiley+1,offsetx*tilex:(offsetx+1)*tilex+1]\n",
    "                        # assign values\n",
    "                        dataface = dsa.stack([dataface], axis=0)\n",
    "                        if dummy == 0:\n",
    "                            gridfields[field] = dataface\n",
    "                            dummy=1\n",
    "                        else:\n",
    "                            gridfields[field] = dsa.concatenate(\n",
    "                                [gridfields[field], dataface], axis=0)\n",
    "\n",
    "    elif geometry == 'cs':  # pragma: no cover\n",
    "        raise NotImplementedError(\"'cs' geometry is not supported yet\")\n",
    "        pass\n",
    "\n",
    "    # create the dataset\n",
    "    if geometry in ['llc', 'cs']:\n",
    "        ntile=gridfields['XG'].shape[0]\n",
    "        grid = xr.Dataset({'XG':  (['tile', 'j_g', 'i_g'], gridfields['XG']),\n",
    "                           'YG':  (['tile', 'j_g', 'i_g'], gridfields['YG']),\n",
    "                           },\n",
    "                          coords={'i_g': (['i_g'],\n",
    "                                          np.arange(tilex+1)),\n",
    "                                  'j_g': (['j_g'],\n",
    "                                          np.arange(tiley+1)),\n",
    "                                  'tile': (['tile'], np.arange(ntile))\n",
    "                                  }\n",
    "                          )\n",
    "    else:  # pragma: no cover\n",
    "        grid = xr.Dataset({'XG':  (['j_g', 'i_g'], gridfields['XG']),\n",
    "                           'YG':  (['j_g', 'i_g'], gridfields['YG']),\n",
    "                           },\n",
    "                          coords={'i_g': (['i_g'],\n",
    "                                          np.arange(tilex+1)),\n",
    "                                  'j_g': (['j_g'],\n",
    "                                          np.arange(tiley+1))\n",
    "                                  }\n",
    "                          )\n",
    "\n",
    "    return grid\n",
    "\n",
    "def read_all_variables(variable_list, file_metadata, use_mmap=False,\n",
    "                       use_dask=False, chunks=\"3D\"):\n",
    "    \"\"\"\n",
    "    Return a dictionary of dask arrays for variables in a MDS file\n",
    "    PARAMETERS\n",
    "    ----------\n",
    "    variable_list : list\n",
    "        list of MITgcm variables, from fldList in .meta\n",
    "    file_metadata : dict\n",
    "        internal metadata for binary file\n",
    "    use_mmap : bool, optional\n",
    "        Whether to read the data using a numpy.memmap\n",
    "    chunks : str, optional\n",
    "        Whether to read 2D (default) or 3D chunks\n",
    "        2D chunks are reading (x,y) levels and 3D chunks\n",
    "        are reading the a (x,y,z) field\n",
    "    RETURNS\n",
    "    -------\n",
    "    out : list\n",
    "        list of data arrays (dask.array, numpy.ndarray or memmap)\n",
    "        corresponding to variables from given list in the file\n",
    "        described by file_metadata\n",
    "    \"\"\"\n",
    "\n",
    "    out = []\n",
    "    for variable in variable_list:\n",
    "        if chunks == \"2D\":\n",
    "            out.append(read_2D_chunks(variable, file_metadata,\n",
    "                                      use_mmap=use_mmap, use_dask=use_dask))\n",
    "        elif chunks == \"3D\":\n",
    "            out.append(read_3D_chunks(variable, file_metadata,\n",
    "                                      use_mmap=use_mmap, use_dask=use_dask))\n",
    "\n",
    "    return out\n",
    "\n",
    "def read_3D_chunks(variable, file_metadata, use_mmap=False, use_dask=False):\n",
    "    \"\"\"\n",
    "    Return dask array for variable, from the file described by file_metadata,\n",
    "    reading 3D chunks. Not suitable for llc data.\n",
    "    Parameters\n",
    "    ----------\n",
    "    variable : string\n",
    "               name of the variable to read\n",
    "    file_metadata : dict\n",
    "               internal file_metadata for binary file\n",
    "    use_mmap : bool, optional\n",
    "               Whether to read the data using a numpy.memmap\n",
    "    use_dask : bool, optional\n",
    "               collect the data lazily or eagerly\n",
    "    Returns\n",
    "    -------\n",
    "    dask array for variable, with 3d (nz, ny, nx) chunks\n",
    "    or numpy.ndarray or memmap, depending on input args\n",
    "    \"\"\"\n",
    "\n",
    "    def load_chunk(rec):\n",
    "        return _read_xyz_chunk(variable, file_metadata,\n",
    "                               rec=rec,\n",
    "                               use_mmap=use_mmap)[None]\n",
    "\n",
    "    chunks = (1, file_metadata['nz'], file_metadata['ny'], file_metadata['nx'])\n",
    "    shape = (file_metadata['nt'], file_metadata['nz'],\n",
    "             file_metadata['ny'], file_metadata['nx'])\n",
    "    name = 'mds-' + tokenize(file_metadata, variable)\n",
    "\n",
    "    dsk = {(name, rec, 0, 0, 0): (load_chunk, rec)\n",
    "           for rec in range(file_metadata['nt'])}\n",
    "\n",
    "    data = dsa.Array(dsk, name, chunks,\n",
    "                     dtype=file_metadata['dtype'], shape=shape)\n",
    "\n",
    "    if not use_dask:\n",
    "        data = data.compute()\n",
    "\n",
    "    return data\n",
    "\n",
    "def _read_xyz_chunk(variable, file_metadata, rec=0, use_mmap=False):\n",
    "    \"\"\"\n",
    "    Read a 3d chunk (x,y,z) of variable from file described in\n",
    "    file_metadata.\n",
    "    Parameters\n",
    "    ----------\n",
    "    variable : string\n",
    "               name of the variable to read\n",
    "    file_metadata : dict\n",
    "               file_metadata for binary file\n",
    "    rec      : integer, optional\n",
    "               time record to read (default=0)\n",
    "    use_mmap : bool, optional\n",
    "               Whether to read the data using a numpy.memmap\n",
    "    Returns\n",
    "    -------\n",
    "    numpy array or memmap\n",
    "    \"\"\"\n",
    "\n",
    "    if file_metadata['has_faces'] and ((file_metadata['nx'] > 1) or\n",
    "                                       (file_metadata['ny'] > 1)):\n",
    "        raise ValueError(\"_read_xyz_chunk cannot be called with llc type grid\")\n",
    "\n",
    "    # size of the data element\n",
    "    nbytes = file_metadata['dtype'].itemsize\n",
    "    # byte order\n",
    "    file_metadata['datatype'] = file_metadata['dtype'].newbyteorder(\n",
    "        file_metadata['endian'])\n",
    "    # find index of variable\n",
    "    idx_var = file_metadata['vars'].index(variable)\n",
    "\n",
    "    # 1. compute offset_variable, init to zero\n",
    "    offset_vars = 0\n",
    "    # loop on variables before the one to read\n",
    "    for jvar in np.arange(idx_var):\n",
    "        # inspect its dimensions\n",
    "        dims = file_metadata['dims_vars'][jvar]\n",
    "        # compute the byte size of this variable\n",
    "        nbytes_thisvar = 1*nbytes\n",
    "        for dim in dims:\n",
    "            nbytes_thisvar = nbytes_thisvar*file_metadata[dim]\n",
    "        # update offset from previous variables\n",
    "        offset_vars = offset_vars+nbytes_thisvar\n",
    "\n",
    "    # 2. get dimensions of desired variable\n",
    "    dims = file_metadata['dims_vars'][idx_var]\n",
    "    # inquire for values of dimensions, else return 1\n",
    "    nt, nz, ny, nx = [file_metadata.get(dimname, 1)\n",
    "                      for dimname in ('nt', 'nz', 'ny', 'nx')]\n",
    "\n",
    "    # 3. compute offset from previous records of current variable\n",
    "    if (rec > nt-1):\n",
    "        raise ValueError(\"time record %g greater than number of records %g\" %\n",
    "                         (rec, nt))\n",
    "    else:\n",
    "        offset_timerecords = rec * nz * ny * nx * nbytes\n",
    "\n",
    "    # 4. compute the offset of the previous variables, records and levels\n",
    "    offset = offset_vars + offset_timerecords\n",
    "    shape = (nz, ny, nx,)\n",
    "\n",
    "    # check if we do a partial read of the file\n",
    "    if (nt > 1) or (len(file_metadata['vars']) > 1):\n",
    "        partial_read = True\n",
    "    else:\n",
    "        partial_read = False\n",
    "\n",
    "    # define the order (row/column major)\n",
    "    # in conventional grids, it's in C\n",
    "    order = 'C'\n",
    "\n",
    "    # 5. Do the actual read\n",
    "    data = read_raw_data(file_metadata['filename'],\n",
    "                         file_metadata['datatype'],\n",
    "                         shape, use_mmap=use_mmap, offset=offset,\n",
    "                         order=order, partial_read=partial_read)\n",
    "\n",
    "    return data\n",
    "\n",
    "def read_raw_data(datafile, dtype, shape, use_mmap=False, offset=0,\n",
    "                  order='C', partial_read=False):\n",
    "    \"\"\"Read a raw binary file and shape it.\n",
    "    PARAMETERS\n",
    "    ----------\n",
    "    datafile : str\n",
    "        Path to a .data file\n",
    "    dtype : numpy.dtype\n",
    "        Data type of the data\n",
    "    shape : tuple\n",
    "        Shape of the data\n",
    "    use_memmap : bool, optional\n",
    "        Whether to read the data using a numpy.memmap\n",
    "    offset : int, optional\n",
    "        Offset (in bytes) to apply on read\n",
    "    order : str, optional\n",
    "        Row/Column Major = 'C' or 'F'\n",
    "    partial_read : bool, optional\n",
    "        If reading part of the file\n",
    "    RETURNS\n",
    "    -------\n",
    "    data : numpy.ndarray\n",
    "        The data (or a memmap to it)\n",
    "    \"\"\"\n",
    "\n",
    "    number_of_values = reduce(lambda x, y: x * y, shape)\n",
    "    expected_number_of_bytes = number_of_values * dtype.itemsize\n",
    "    actual_number_of_bytes = os.path.getsize(datafile)\n",
    "    if not partial_read:\n",
    "        # first check that partial_read and offset are used together\n",
    "        if offset != 0:\n",
    "            raise ValueError(\n",
    "                'When partial_read==False, offset will not be read')\n",
    "        # second check to be sure there is the right number of bytes in file\n",
    "        if expected_number_of_bytes != actual_number_of_bytes:\n",
    "            raise IOError('File `%s` does not have the correct size '\n",
    "                          '(expected %g, found %g)' %\n",
    "                          (datafile,\n",
    "                           expected_number_of_bytes,\n",
    "                           actual_number_of_bytes))\n",
    "    else:\n",
    "        pass\n",
    "\n",
    "    if offset < actual_number_of_bytes:\n",
    "        pass\n",
    "    else:\n",
    "        raise ValueError('bytes offset %g is greater than file size %g' %\n",
    "                         (offset, actual_number_of_bytes))\n",
    "\n",
    "    with open(datafile, 'rb') as f:\n",
    "        if use_mmap:\n",
    "            data = np.memmap(f, dtype=dtype, mode='r', offset=offset,\n",
    "                             shape=tuple(shape), order=order)\n",
    "        else:\n",
    "            f.seek(offset)\n",
    "            data = np.fromfile(f, dtype=dtype, count=number_of_values)\n",
    "            data = data.reshape(shape, order=order)\n",
    "    data.shape = shape\n",
    "    return data\n",
    "\n",
    "def _pad_array(data, file_metadata, face=0):\n",
    "    \"\"\"\n",
    "    Return a padded array. If input data is a numpy.memmap and no padding\n",
    "    is necessary, the function preserves its type. Otherwise, the concatenate\n",
    "    forces it to load into memory.\n",
    "    Parameters\n",
    "    ----------\n",
    "    data          : numpy array or memmap\n",
    "                    input data\n",
    "    file_metadata : dict\n",
    "                    metadata for file\n",
    "    face          : int, optional\n",
    "                    llc face if applicable\n",
    "    Returns\n",
    "    -------\n",
    "    numpy.array or numpy.memmap\n",
    "    \"\"\"\n",
    "\n",
    "    # Pad data before in y direction\n",
    "    if 'pad_before_y' in file_metadata:\n",
    "        if file_metadata['has_faces']:\n",
    "            facet_origin = file_metadata['face_facets'][face]\n",
    "            nypad_before = file_metadata['pad_before_y'][facet_origin]\n",
    "        else:\n",
    "            nypad_before = file_metadata['pad_before_y']\n",
    "\n",
    "        pad_before = np.zeros((nypad_before, file_metadata['nx']))\n",
    "        data_padded_before = np.concatenate(\n",
    "            (pad_before, data), axis=0)\n",
    "    else:\n",
    "        data_padded_before = data\n",
    "\n",
    "    # Pad data after in y direction\n",
    "    if 'pad_after_y' in file_metadata:\n",
    "        if file_metadata['has_faces']:\n",
    "            facet_origin = file_metadata['face_facets'][face]\n",
    "            nypad_after = file_metadata['pad_after_y'][facet_origin]\n",
    "        else:\n",
    "            nypad_after = file_metadata['pad_after_y']\n",
    "\n",
    "        pad_after = np.zeros((nypad_after, file_metadata['nx']))\n",
    "        data_padded_after = np.concatenate(\n",
    "            (data_padded_before, pad_after), axis=0)\n",
    "    else:\n",
    "        data_padded_after = data_padded_before\n",
    "\n",
    "    return data_padded_after"
   ]
  },
  {
   "cell_type": "code",
   "execution_count": 115,
   "metadata": {},
   "outputs": [],
   "source": [
    "grid= get_xg_yg_from_input('/swot/SUM01/spencer/ECCO_diags/tile<NFACET>.mitgrid',\n",
    "                                         geometry='llc',\n",
    "                                         extra_metadata=llc90_extra_metadata)"
   ]
  },
  {
   "cell_type": "code",
   "execution_count": 116,
   "metadata": {},
   "outputs": [
    {
     "data": {
      "text/plain": [
       "<xarray.Dataset>\n",
       "Dimensions:  (i_g: 31, j_g: 31, tile: 96)\n",
       "Coordinates:\n",
       "  * i_g      (i_g) int64 0 1 2 3 4 5 6 7 8 9 ... 21 22 23 24 25 26 27 28 29 30\n",
       "  * j_g      (j_g) int64 0 1 2 3 4 5 6 7 8 9 ... 21 22 23 24 25 26 27 28 29 30\n",
       "  * tile     (tile) int64 0 1 2 3 4 5 6 7 8 9 ... 86 87 88 89 90 91 92 93 94 95\n",
       "Data variables:\n",
       "    XG       (tile, j_g, i_g) float64 dask.array<chunksize=(1, 31, 31), meta=np.ndarray>\n",
       "    YG       (tile, j_g, i_g) float64 dask.array<chunksize=(1, 31, 31), meta=np.ndarray>"
      ]
     },
     "execution_count": 116,
     "metadata": {},
     "output_type": "execute_result"
    }
   ],
   "source": [
    "grid"
   ]
  },
  {
   "cell_type": "code",
   "execution_count": 117,
   "metadata": {},
   "outputs": [],
   "source": [
    "nodes2 = [[0.0, 0.0],\n",
    "          [2.0, 0.0],\n",
    "          [1.0, 2.0],\n",
    "          [3.0, 2.0],\n",
    "          ]\n",
    "\n",
    "faces2 = [[0, 1, 2],\n",
    "          [1, 3, 2],\n",
    "          ]\n",
    "nodes = np.array(nodes2, dtype=np.float64)\n",
    "faces = np.array(faces2, dtype=np.intc)"
   ]
  },
  {
   "cell_type": "code",
   "execution_count": 118,
   "metadata": {},
   "outputs": [],
   "source": [
    "tree = cell_tree2d.CellTree(nodes, faces)"
   ]
  },
  {
   "cell_type": "code",
   "execution_count": 119,
   "metadata": {},
   "outputs": [],
   "source": [
    "point = np.array([1., 1.])  # in triangle 1\n",
    "result = tree.locate(point)"
   ]
  },
  {
   "cell_type": "code",
   "execution_count": 217,
   "metadata": {},
   "outputs": [
    {
     "data": {
      "text/plain": [
       "[<matplotlib.lines.Line2D at 0x7ff860505710>]"
      ]
     },
     "execution_count": 217,
     "metadata": {},
     "output_type": "execute_result"
    },
    {
     "data": {
      "image/png": "[encoded data removed]",
      "text/plain": [
       "<Figure size 432x288 with 1 Axes>"
      ]
     },
     "metadata": {
      "needs_background": "light"
     },
     "output_type": "display_data"
    }
   ],
   "source": [
    "plt.plot(nodes[faces[1,:],0],nodes[faces[1,:],1])"
   ]
  },
  {
   "cell_type": "code",
   "execution_count": 245,
   "metadata": {},
   "outputs": [
    {
     "data": {
      "text/plain": [
       "[<matplotlib.lines.Line2D at 0x7ff86062a828>]"
      ]
     },
     "execution_count": 245,
     "metadata": {},
     "output_type": "execute_result"
    },
    {
     "data": {
      "image/png": "[encoded data removed]",
      "text/plain": [
       "<Figure size 432x288 with 1 Axes>"
      ]
     },
     "metadata": {
      "needs_background": "light"
     },
     "output_type": "display_data"
    }
   ],
   "source": [
    "plt.plot(nodes[faces[0,:],0],nodes[faces[0,:],1])"
   ]
  },
  {
   "cell_type": "code",
   "execution_count": 221,
   "metadata": {},
   "outputs": [],
   "source": [
    "#what tile\n",
    "#we define the cap tile here:\n",
    "captile=43\n",
    "grid.XG.isel(i_g=[0,-1],j_g=[0,-1])\n",
    "nodes3=np.stack((grid.XG.isel(i_g=[0,-1],j_g=[0,-1])[0:,:,:].values.ravel(),\n",
    "                 grid.YG.isel(i_g=[0,-1],j_g=[0,-1])[0:,:,:].values.ravel()),1)\n",
    "\n",
    "#insert additional nodes after cap node to deal with cap\n",
    "to_insert=nodes3[captile*4:(captile+1)*4].copy()\n",
    "to_insert[:,1]=90*np.ones(4)\n",
    "#52,142\n",
    "nodes3=np.insert(nodes3, captile*4+2, [nodes3[captile*4][0], 90], axis=0)\n",
    "nodes3=np.insert(nodes3, captile*4+3, [nodes3[captile*4+1][0], 90], axis=0)\n",
    "\n",
    "#52,-38\n",
    "nodes3=np.insert(nodes3, captile*4+4, nodes3[captile*4], axis=0)#skip one and use the one in place\n",
    "nodes3=np.insert(nodes3, captile*4+6, [nodes3[captile*4][0], 90], axis=0)\n",
    "nodes3=np.insert(nodes3, captile*4+7, [nodes3[captile*4+5][0], 90], axis=0)\n",
    "\n",
    "#-38,-128\n",
    "nodes3=np.insert(nodes3, captile*4+8, nodes3[captile*4+5], axis=0)#skip one and use the one in place\n",
    "nodes3=np.insert(nodes3, captile*4+10, [nodes3[captile*4+5][0], 90], axis=0)\n",
    "nodes3=np.insert(nodes3, captile*4+11, [nodes3[captile*4+9][0], 90], axis=0)\n",
    "\n",
    "#-128,142 (this one won't work, but we will fix it later)\n",
    "nodes3=np.insert(nodes3, captile*4+12, nodes3[captile*4+9], axis=0)#skip one and use the one in place\n",
    "nodes3=np.insert(nodes3, captile*4+13, nodes3[captile*4+1], axis=0)\n",
    "nodes3=np.insert(nodes3, captile*4+14, [nodes3[captile*4+9][0], 90], axis=0)\n",
    "nodes3=np.insert(nodes3, captile*4+15, [nodes3[captile*4+1][0], 90], axis=0)\n",
    "\n",
    "col1=np.arange(0,396,4)\n",
    "col2=col1+2\n",
    "col3=col1+3\n",
    "col4=col1+1\n",
    "faces3 = np.stack((col1,col2,col3,col4),1)\n",
    "faces = np.array(faces3, dtype=np.intc)\n",
    "nodes = np.array(nodes3, dtype=np.float64)\n",
    "\n",
    "#check if on dateline\n",
    "for tileon in range(0,faces.shape[0]):\n",
    "    xnodes=nodes[faces[tileon,:],0]\n",
    "    xdist=np.diff(xnodes)\n",
    "    if np.any(np.abs(xdist)>180):\n",
    "        xnodes[xnodes<0]=xnodes[xnodes<0]+360\n",
    "        nodes[faces[tileon,:],0]=xnodes\n",
    "\n",
    "\n",
    "tree = cell_tree2d.CellTree(nodes, faces)"
   ]
  },
  {
   "cell_type": "code",
   "execution_count": 246,
   "metadata": {},
   "outputs": [
    {
     "data": {
      "text/plain": [
       "array([95], dtype=int32)"
      ]
     },
     "execution_count": 246,
     "metadata": {},
     "output_type": "execute_result"
    }
   ],
   "source": [
    "#search for point: if point is not in domain, add 360 in x-dir and try again\n",
    "point = np.array([-50, -75]) \n",
    "result = tree.locate(point)\n",
    "if result==-1:\n",
    "    point[0]=point[0]+360\n",
    "    result = tree.locate(point)\n",
    "    \n",
    "#interpret result: cap splits one tile into four\n",
    "if (result>captile) & (result<captile+4):\n",
    "    result=captile\n",
    "elif result>captile+3:\n",
    "    result=result-3\n",
    "result"
   ]
  },
  {
   "cell_type": "code",
   "execution_count": 26,
   "metadata": {},
   "outputs": [],
   "source": [
    "#where are you in the tile?\n",
    "nodes3=np.stack((grid.XG[tile,:,:].values.ravel(),grid.YG[tile,:,:].values.ravel()),1)\n",
    "col_base=np.arange(0,930)\n",
    "col1=np.asarray([item for item in col_base if(item+1) % 31>0])\n",
    "col2=col1+1\n",
    "col3=col1+31\n",
    "col4=col1+32\n",
    "faces3 = np.stack((col1,col2,col3,col4),1)\n",
    "nodes = np.array(nodes3, dtype=np.float64)\n",
    "faces = np.array(faces3, dtype=np.intc)\n",
    "tree = cell_tree2d.CellTree(nodes, faces)"
   ]
  },
  {
   "cell_type": "code",
   "execution_count": 27,
   "metadata": {},
   "outputs": [
    {
     "data": {
      "text/plain": [
       "array([-1], dtype=int32)"
      ]
     },
     "execution_count": 27,
     "metadata": {},
     "output_type": "execute_result"
    }
   ],
   "source": [
    "point = np.array([0, -69]) \n",
    "result = tree.locate(point)\n",
    "result"
   ]
  },
  {
   "cell_type": "code",
   "execution_count": 56,
   "metadata": {},
   "outputs": [
    {
     "data": {
      "text/plain": [
       "array([ -41.61067558,   -3.44353936,  -38.        ,   -8.        ,\n",
       "        -38.        ,   -8.        ,  -38.        ,   -8.        ,\n",
       "         -8.        ,   22.        ,   -8.        ,   22.        ,\n",
       "         22.        ,   52.        ,   22.        ,   52.        ,\n",
       "        -38.        ,   -8.        ,  -38.        ,   -8.        ,\n",
       "         -8.        ,   22.        ,   -8.        ,   22.        ,\n",
       "         22.        ,   52.        ,   22.        ,   52.        ,\n",
       "        -38.        ,   -8.        ,  -38.        ,   -8.        ,\n",
       "         -8.        ,   22.        ,   -8.        ,   22.        ,\n",
       "         22.        ,   52.        ,   22.        ,   52.        ,\n",
       "        -38.        ,   -8.        ,  -38.        ,   -8.        ,\n",
       "         -8.        ,   22.        ,   -8.        ,   22.        ,\n",
       "         22.        ,   52.        ,   22.        ,   52.        ,\n",
       "        -38.        ,   -8.        ,  -38.        ,   -8.        ,\n",
       "         -8.        ,   22.        ,   -8.        ,   22.        ,\n",
       "         22.        ,   52.        ,   22.        ,   52.        ,\n",
       "        -38.        ,   -8.        ,  -38.        ,   -8.00000014,\n",
       "         -8.        ,   22.        ,   -8.00000014,   22.00000014,\n",
       "         22.        ,   52.        ,   22.00000014,   52.        ,\n",
       "        -38.        ,   -8.00000014,  -38.        ,  -11.53131977,\n",
       "         -8.00000014,   22.00000014,  -11.53131977,   25.53131977,\n",
       "         22.00000014,   52.        ,   25.53131977,   52.        ,\n",
       "         52.        ,   82.        ,   52.        ,   82.        ,\n",
       "         82.        ,  112.        ,   82.        ,  112.        ,\n",
       "        112.        ,  142.        ,  112.        ,  142.        ,\n",
       "         52.        ,   82.        ,   52.        ,   82.        ,\n",
       "         82.        ,  112.        ,   82.        ,  112.        ,\n",
       "        112.        ,  142.        ,  112.        ,  142.        ,\n",
       "         52.        ,   82.        ,   52.        ,   82.        ,\n",
       "         82.        ,  112.        ,   82.        ,  112.        ,\n",
       "        112.        ,  142.        ,  112.        ,  142.        ,\n",
       "         52.        ,   82.        ,   52.        ,   82.        ,\n",
       "         82.        ,  112.        ,   82.        ,  112.        ,\n",
       "        112.        ,  142.        ,  112.        ,  142.        ,\n",
       "         52.        ,   82.        ,   52.        ,   82.        ,\n",
       "         82.        ,  112.        ,   82.        ,  112.        ,\n",
       "        112.        ,  142.        ,  112.        ,  142.        ,\n",
       "        112.        ,  142.        ,  112.00000014,  142.        ,\n",
       "        112.00000014,  142.        ,  115.53131977,  142.        ,\n",
       "         52.        ,   78.46868023,   25.53131977,   52.        ,\n",
       "         78.46868023,  115.53131977,   52.        ,  142.        ,\n",
       "        115.53131977,  142.        ,  142.        ,  168.46868023,\n",
       "         25.53131977,   52.        ,  -11.53131977,  -38.        ,\n",
       "         52.        ,  142.        ,  -38.        , -128.        ,\n",
       "        142.        ,  168.46868023, -128.        , -154.46868023,\n",
       "        -11.53131977,  -38.        ,  -38.        ,  -64.46868023,\n",
       "        -38.        , -128.        ,  -64.46868023, -101.53131977,\n",
       "       -128.        , -154.46868023, -101.53131977, -128.        ,\n",
       "        142.        ,  142.        ,  168.46868023,  171.99999986,\n",
       "        142.        ,  142.        ,  171.99999986,  172.        ,\n",
       "        142.        ,  142.        ,  172.        ,  172.        ,\n",
       "        142.        ,  142.        ,  172.        ,  172.        ,\n",
       "        142.        ,  142.        ,  172.        ,  172.        ,\n",
       "        142.        ,  142.        ,  172.        ,  172.        ,\n",
       "        142.        ,  142.        ,  172.        ,  172.        ,\n",
       "        142.        ,  138.38932442,  172.        ,  176.55646064,\n",
       "        168.46868023,  171.99999986, -154.46868023, -157.99999986,\n",
       "        171.99999986,  172.        , -157.99999986, -158.        ,\n",
       "        172.        ,  172.        , -158.        , -158.        ,\n",
       "        172.        ,  172.        , -158.        , -158.        ,\n",
       "        172.        ,  172.        , -158.        , -158.        ,\n",
       "        172.        ,  172.        , -158.        , -158.        ,\n",
       "        172.        ,  172.        , -158.        , -158.        ,\n",
       "        172.        ,  176.55646064, -158.        , -150.81716797,\n",
       "       -154.46868023, -157.99999986, -128.        , -128.        ,\n",
       "       -157.99999986, -158.        , -128.        , -128.        ,\n",
       "       -158.        , -158.        , -128.        , -128.        ,\n",
       "       -158.        , -158.        , -128.        , -128.        ,\n",
       "       -158.        , -158.        , -128.        , -128.        ,\n",
       "       -158.        , -158.        , -128.        , -128.        ,\n",
       "       -158.        , -158.        , -128.        , -128.        ,\n",
       "       -158.        , -150.81716797, -128.        , -125.13015085,\n",
       "       -128.        , -128.        , -101.53131977,  -98.00000014,\n",
       "       -128.        , -128.        ,  -98.00000014,  -98.        ,\n",
       "       -128.        , -128.        ,  -98.        ,  -98.        ,\n",
       "       -128.        , -128.        ,  -98.        ,  -98.        ,\n",
       "       -128.        , -128.        ,  -98.        ,  -98.        ,\n",
       "       -128.        , -128.        ,  -98.        ,  -98.        ,\n",
       "       -128.        , -128.        ,  -98.        ,  -98.        ,\n",
       "       -128.        , -125.13015085,  -98.        , -101.68824689,\n",
       "       -101.53131977,  -98.00000014,  -64.46868023,  -67.99999986,\n",
       "        -98.00000014,  -98.        ,  -67.99999986,  -68.        ,\n",
       "        -98.        ,  -98.        ,  -68.        ,  -68.        ,\n",
       "        -98.        ,  -98.        ,  -68.        ,  -68.        ,\n",
       "        -98.        ,  -98.        ,  -68.        ,  -68.        ,\n",
       "        -98.        ,  -98.        ,  -68.        ,  -68.        ,\n",
       "        -98.        ,  -98.        ,  -68.        ,  -68.        ,\n",
       "        -98.        , -101.68824689,  -68.        ,  -75.31031926,\n",
       "        -64.46868023,  -67.99999986,  -38.        ,  -38.        ,\n",
       "        -67.99999986,  -68.        ,  -38.        ,  -38.        ,\n",
       "        -68.        ,  -68.        ,  -38.        ,  -38.        ,\n",
       "        -68.        ,  -68.        ,  -38.        ,  -38.        ,\n",
       "        -68.        ,  -68.        ,  -38.        ,  -38.        ,\n",
       "        -68.        ,  -68.        ,  -38.        ,  -38.        ,\n",
       "        -68.        ,  -68.        ,  -38.        ,  -38.        ,\n",
       "        -68.        ,  -75.31031926,  -38.        ,  -41.61067558])"
      ]
     },
     "execution_count": 56,
     "metadata": {},
     "output_type": "execute_result"
    }
   ],
   "source": [
    "grid.XG.isel(i_g=[0,-1],j_g=[0,-1])[0,:,:].values\n",
    "grid.XG.isel(i_g=[0,-1],j_g=[0,-1])[:,:,:].values.ravel()"
   ]
  },
  {
   "cell_type": "code",
   "execution_count": 139,
   "metadata": {},
   "outputs": [
    {
     "data": {
      "text/plain": [
       "[<matplotlib.lines.Line2D at 0x7f760c222a20>]"
      ]
     },
     "execution_count": 139,
     "metadata": {},
     "output_type": "execute_result"
    },
    {
     "data": {
      "image/png": "[encoded data removed]",
      "text/plain": [
       "<Figure size 432x288 with 1 Axes>"
      ]
     },
     "metadata": {
      "needs_background": "light"
     },
     "output_type": "display_data"
    }
   ],
   "source": [
    "plt.plot(nodes[8281:8281+8100-1,0],nodes[8281:8281+8100-1,1],'x')\n"
   ]
  },
  {
   "cell_type": "code",
   "execution_count": 47,
   "metadata": {},
   "outputs": [
    {
     "data": {
      "text/plain": [
       "array([[-108.47212793,  -88.16335017],\n",
       "       [-107.91524717,  -88.30251042]])"
      ]
     },
     "execution_count": 47,
     "metadata": {},
     "output_type": "execute_result"
    }
   ],
   "source": [
    "nodes3[91:93,:]"
   ]
  },
  {
   "cell_type": "code",
   "execution_count": 48,
   "metadata": {},
   "outputs": [
    {
     "data": {
      "text/plain": [
       "<xarray.DataArray 'XG' (face: 13, j_g: 91, i_g: 91)>\n",
       "dask.array<concatenate, shape=(13, 91, 91), dtype=float64, chunksize=(1, 91, 91), chunktype=numpy.ndarray>\n",
       "Coordinates:\n",
       "  * i_g      (i_g) int64 0 1 2 3 4 5 6 7 8 9 ... 81 82 83 84 85 86 87 88 89 90\n",
       "  * j_g      (j_g) int64 0 1 2 3 4 5 6 7 8 9 ... 81 82 83 84 85 86 87 88 89 90\n",
       "  * face     (face) int64 0 1 2 3 4 5 6 7 8 9 10 11 12"
      ]
     },
     "execution_count": 48,
     "metadata": {},
     "output_type": "execute_result"
    }
   ],
   "source": [
    "grid.XG[0,1,0:2].values"
   ]
  },
  {
   "cell_type": "code",
   "execution_count": 263,
   "metadata": {},
   "outputs": [
    {
     "data": {
      "text/plain": [
       "<matplotlib.colorbar.Colorbar at 0x7fa48e339470>"
      ]
     },
     "execution_count": 263,
     "metadata": {},
     "output_type": "execute_result"
    },
    {
     "data": {
      "image/png": "[encoded data removed]",
      "text/plain": [
       "<Figure size 432x288 with 2 Axes>"
      ]
     },
     "metadata": {
      "needs_background": "light"
     },
     "output_type": "display_data"
    }
   ],
   "source": [
    "cs=plt.contourf(griddata.reshape(16,-1,91)[5,:,:])\n",
    "plt.colorbar(cs)\n"
   ]
  },
  {
   "cell_type": "code",
   "execution_count": 500,
   "metadata": {},
   "outputs": [],
   "source": [
    "datadir='/swot/SUM01/spencer/ECCO_singlegrid/'\n",
    "griddata=np.fromfile(datadir+'XG.001.001.data','>f4')\n",
    "griddata=griddata.reshape(30,30)\n"
   ]
  },
  {
   "cell_type": "code",
   "execution_count": 501,
   "metadata": {},
   "outputs": [
    {
     "data": {
      "text/plain": [
       "<matplotlib.colorbar.Colorbar at 0x7f370e5abb38>"
      ]
     },
     "execution_count": 501,
     "metadata": {},
     "output_type": "execute_result"
    },
    {
     "data": {
      "image/png": "[encoded data removed]",
      "text/plain": [
       "<Figure size 432x288 with 2 Axes>"
      ]
     },
     "metadata": {
      "needs_background": "light"
     },
     "output_type": "display_data"
    }
   ],
   "source": [
    "cs=plt.contourf(griddata)\n",
    "plt.colorbar(cs)"
   ]
  },
  {
   "cell_type": "code",
   "execution_count": 502,
   "metadata": {},
   "outputs": [
    {
     "data": {
      "text/plain": [
       "<matplotlib.collections.QuadMesh at 0x7f370e515208>"
      ]
     },
     "execution_count": 502,
     "metadata": {},
     "output_type": "execute_result"
    },
    {
     "data": {
      "image/png": "[encoded data removed]",
      "text/plain": [
       "<Figure size 432x288 with 2 Axes>"
      ]
     },
     "metadata": {
      "needs_background": "light"
     },
     "output_type": "display_data"
    }
   ],
   "source": [
    "grid.sel(tile=0).XG.plot()"
   ]
  },
  {
   "cell_type": "code",
   "execution_count": null,
   "metadata": {},
   "outputs": [],
   "source": []
  }
 ],
 "metadata": {
  "kernelspec": {
   "display_name": "Python [conda env:testing]",
   "language": "python",
   "name": "conda-env-testing-py"
  },
  "language_info": {
   "codemirror_mode": {
    "name": "ipython",
    "version": 3
   },
   "file_extension": ".py",
   "mimetype": "text/x-python",
   "name": "python",
   "nbconvert_exporter": "python",
   "pygments_lexer": "ipython3",
   "version": "3.6.7"
  }
 },
 "nbformat": 4,
 "nbformat_minor": 2
}
