{
 "cells": [
  {
   "cell_type": "code",
   "execution_count": null,
   "metadata": {},
   "outputs": [],
   "source": [
    "%matplotlib inline\n",
    "import matplotlib.pyplot as plt\n",
    "import cell_tree2d\n",
    "import xmitgcm\n",
    "import xgcm\n",
    "import numpy as np"
   ]
  },
  {
   "cell_type": "code",
   "execution_count": 73,
   "metadata": {},
   "outputs": [],
   "source": [
    "#NB This code only works with SQUARE TILES (and I need to test this some more)\n",
    "\n",
    "llc90_extra_metadata = xmitgcm.utils.get_extra_metadata(domain='llc', nx=90)\n",
    "grid = xmitgcm.utils.get_grid_from_input('/swot/SUM01/spencer/ECCO_diags/tile<NFACET>.mitgrid',\n",
    "                                         geometry='llc',\n",
    "                                         extra_metadata=llc90_extra_metadata)\n",
    "blankList=[1,2,3,5,6,28,29,30,31,32,33,49,50,52,53,72,81,90,99,108,117]\n",
    "totaltiles=96\n",
    "tilex=30\n",
    "tiley=30\n",
    "captile=43\n",
    "\n",
    "#blankList=[2,13,14,23]\n",
    "#totaltiles=48\n",
    "#tilex=45\n",
    "#tiley=45\n",
    "#captile=0\n",
    "\n",
    "#blankList=[1,2,3,4,5,6,7,8,9,10,11,12,14,15,16,17,18,21,22,23,24,\n",
    "#  65,71,75,76,90,95,96,101,102,109,110,111,112,113,114,115,116,117,118,119,\n",
    "#  120,121,122,123,124,125,126,127,128,129,130,131,132,\n",
    "#  188,189,190,193,194,195,196,199,\n",
    "#  200,201,202,203,205,206,207,208,209,211,212,213,214,215,216,242,247,253,\n",
    "#  267,268,269,270,287,288,305,306,323,324,341,342,359,360,362,376,377,378,\n",
    "#  380,381,382,395,396,400,412,413,414,430]\n",
    "#totaltiles=360\n",
    "\n",
    "#note that the blank list is given starting at 1. We will not alter this, so that people\n",
    "#can just copy the input"
   ]
  },
  {
   "cell_type": "code",
   "execution_count": 74,
   "metadata": {},
   "outputs": [],
   "source": [
    "from dask.base import tokenize\n",
    "import dask.array as dsa\n",
    "from functools import reduce\n",
    "import os\n",
    "import xarray as xr\n",
    "\n",
    "\n",
    "def get_xg_yg_from_input(gridfile, nx=None, ny=None, geometry='llc',\n",
    "                        dtype=np.dtype('d'), endian='>', use_dask=False,\n",
    "                        extra_metadata=None, tilex=30, tiley=30, blankList=None):\n",
    "    \"\"\" \n",
    "    Read grid variables from grid input files, this is especially useful\n",
    "    for llc and cube sphere configurations used with land tiles\n",
    "    elimination. Reading the input grid files (e.g. tile00[1-5].mitgrid)\n",
    "    allows to fill in the blanks of eliminated land tiles.\n",
    "    PARAMETERS\n",
    "    ----------\n",
    "    gridfile : str\n",
    "        gridfile must contain <NFACET> as wildcard (e.g. tile<NFACET>.mitgrid)\n",
    "    nx : int\n",
    "        size of the face in the x direction\n",
    "    ny : int\n",
    "        size of the face in the y direction\n",
    "    geometry : str\n",
    "        domain geometry can be llc, cs or carthesian not supported yet\n",
    "    dtype : np.dtype\n",
    "        numeric precision (single/double) of input data\n",
    "    endian : string\n",
    "        endianness of input data\n",
    "    use_dask : bool\n",
    "        use dask or not\n",
    "    extra_metadata : dict\n",
    "        dictionary of extra metadata, needed for llc configurations\n",
    "    RETURNS\n",
    "    ------- \n",
    "    grid : xarray.Dataset\n",
    "        all grid variables\n",
    "    \"\"\"\n",
    "\n",
    "    file_metadata = {}\n",
    "    # grid variables are stored in this order\n",
    "    file_metadata['fldList'] = ['XC', 'YC', 'DXF', 'DYF', 'RAC',\n",
    "                                'XG', 'YG', 'DXV', 'DYU', 'RAZ',\n",
    "                                'DXC', 'DYC', 'RAW', 'RAS', 'DXG', 'DYG']\n",
    "\n",
    "    file_metadata['vars'] = file_metadata['fldList']\n",
    "    dims_vars_list = []\n",
    "    for var in file_metadata['fldList']:\n",
    "        dims_vars_list.append(('ny', 'nx'))\n",
    "    file_metadata['dims_vars'] = dims_vars_list\n",
    "\n",
    "    # no vertical levels or time records\n",
    "    file_metadata['nz'] = 1\n",
    "    file_metadata['nt'] = 1\n",
    "\n",
    "# for curvilinear non-facet grids (TO DO)\n",
    "#    if nx is not None:\n",
    "#        file_metadata['nx'] = nx\n",
    "#    if ny is not None:\n",
    "#        file_metadata['ny'] = ny\n",
    "    if extra_metadata is not None:\n",
    "        file_metadata.update(extra_metadata)\n",
    "\n",
    "    # numeric representation\n",
    "    file_metadata['endian'] = endian\n",
    "    file_metadata['dtype'] = dtype\n",
    "\n",
    "    if geometry == 'llc':\n",
    "        nfacets = 5\n",
    "        try:\n",
    "            nfaces = len(file_metadata['face_facets'])\n",
    "        except:\n",
    "            raise ValueError('metadata must contain face_facets')\n",
    "    if geometry == 'cs':  # pragma: no cover\n",
    "        raise NotImplementedError(\"'cs' geometry is not supported yet\")\n",
    "\n",
    "    # create placeholders for data\n",
    "    gridfields = {}\n",
    "    for field in ['XG', 'YG']:#\n",
    "        gridfields.update({field: None})\n",
    "\n",
    "    if geometry == 'llc':\n",
    "        tileno=0\n",
    "        dummy=0\n",
    "        for kfacet in range(nfacets):\n",
    "            # we need to adapt the metadata to the grid file\n",
    "            grid_metadata = file_metadata.copy()\n",
    "\n",
    "            fname = gridfile.replace('<NFACET>', str(kfacet+1).zfill(3))\n",
    "            grid_metadata['filename'] = fname\n",
    "\n",
    "            if file_metadata['facet_orders'][kfacet] == 'C':\n",
    "                nxgrid = file_metadata['nx'] + 1\n",
    "                nygrid = file_metadata['ny_facets'][kfacet] + 1\n",
    "            elif file_metadata['facet_orders'][kfacet] == 'F':\n",
    "                nxgrid = file_metadata['ny_facets'][kfacet] + 1\n",
    "                nygrid = file_metadata['nx'] + 1\n",
    "\n",
    "            grid_metadata.update({'nx': nxgrid, 'ny': nygrid,\n",
    "                                  'has_faces': False})\n",
    "\n",
    "            raw = read_all_variables(grid_metadata['vars'], grid_metadata,\n",
    "                                     use_dask=use_dask)\n",
    "\n",
    "            rawfields = {}\n",
    "            for kfield in np.arange(len(file_metadata['fldList'])):\n",
    "\n",
    "                rawfields.update(\n",
    "                    {file_metadata['fldList'][kfield]: raw[kfield]})\n",
    "                \n",
    "            tiles_on_facet=(nxgrid-1)*(nygrid-1)//tilex//tiley\n",
    "            tile_in_x=(nxgrid-1)//tilex\n",
    "            tile_in_y=(nygrid-1)//tiley\n",
    "\n",
    "            for field in ['XG', 'YG']:\n",
    "                if field =='XG':\n",
    "                    save_tile=tileno\n",
    "                else:\n",
    "                    tileno=save_tile\n",
    "                    if kfacet == 0:\n",
    "                        dummy=0\n",
    "                # symetrize\n",
    "                tmp = rawfields[field][:, :, :, :].squeeze()\n",
    "                # transpose\n",
    "                if grid_metadata['facet_orders'][kfacet] == 'F':\n",
    "                    tmp = tmp.transpose()\n",
    "\n",
    "                for tileon in range(0,tiles_on_facet):\n",
    "                    tileno=tileno+1\n",
    "                    if tileno not in blankList:\n",
    "                        offsety=(tileon//tile_in_x)\n",
    "                        offsetx=(tileon-offsety*tile_in_x)\n",
    "                        #transpose facet if needed\n",
    "                        tmpt=tmp\n",
    "                        if file_metadata['facet_orders'][kfacet] == 'F':\n",
    "                            tmpt=tmp.transpose()\n",
    "                        # extract the data\n",
    "                        dataface = tmpt[offsety*tiley:(offsety+1)*tiley+1,offsetx*tilex:(offsetx+1)*tilex+1]\n",
    "                        # assign values\n",
    "                        dataface = dsa.stack([dataface], axis=0)\n",
    "                        if dummy == 0:\n",
    "                            gridfields[field] = dataface\n",
    "                            dummy=1\n",
    "                        else:\n",
    "                            gridfields[field] = dsa.concatenate(\n",
    "                                [gridfields[field], dataface], axis=0)\n",
    "\n",
    "    elif geometry == 'cs':  # pragma: no cover\n",
    "        raise NotImplementedError(\"'cs' geometry is not supported yet\")\n",
    "        pass\n",
    "\n",
    "    # create the dataset\n",
    "    if geometry in ['llc', 'cs']:\n",
    "        ntile=gridfields['XG'].shape[0]\n",
    "        grid = xr.Dataset({'XG':  (['tile', 'j_g', 'i_g'], gridfields['XG']),\n",
    "                           'YG':  (['tile', 'j_g', 'i_g'], gridfields['YG']),\n",
    "                           },\n",
    "                          coords={'i_g': (['i_g'],\n",
    "                                          np.arange(tilex+1)),\n",
    "                                  'j_g': (['j_g'],\n",
    "                                          np.arange(tiley+1)),\n",
    "                                  'tile': (['tile'], np.arange(ntile))\n",
    "                                  }\n",
    "                          )\n",
    "    else:  # pragma: no cover\n",
    "        grid = xr.Dataset({'XG':  (['j_g', 'i_g'], gridfields['XG']),\n",
    "                           'YG':  (['j_g', 'i_g'], gridfields['YG']),\n",
    "                           },\n",
    "                          coords={'i_g': (['i_g'],\n",
    "                                          np.arange(tilex+1)),\n",
    "                                  'j_g': (['j_g'],\n",
    "                                          np.arange(tiley+1))\n",
    "                                  }\n",
    "                          )\n",
    "\n",
    "    return grid\n",
    "\n",
    "def read_all_variables(variable_list, file_metadata, use_mmap=False,\n",
    "                       use_dask=False, chunks=\"3D\"):\n",
    "    \"\"\"\n",
    "    Return a dictionary of dask arrays for variables in a MDS file\n",
    "    PARAMETERS\n",
    "    ----------\n",
    "    variable_list : list\n",
    "        list of MITgcm variables, from fldList in .meta\n",
    "    file_metadata : dict\n",
    "        internal metadata for binary file\n",
    "    use_mmap : bool, optional\n",
    "        Whether to read the data using a numpy.memmap\n",
    "    chunks : str, optional\n",
    "        Whether to read 2D (default) or 3D chunks\n",
    "        2D chunks are reading (x,y) levels and 3D chunks\n",
    "        are reading the a (x,y,z) field\n",
    "    RETURNS\n",
    "    -------\n",
    "    out : list\n",
    "        list of data arrays (dask.array, numpy.ndarray or memmap)\n",
    "        corresponding to variables from given list in the file\n",
    "        described by file_metadata\n",
    "    \"\"\"\n",
    "\n",
    "    out = []\n",
    "    for variable in variable_list:\n",
    "        if chunks == \"2D\":\n",
    "            out.append(read_2D_chunks(variable, file_metadata,\n",
    "                                      use_mmap=use_mmap, use_dask=use_dask))\n",
    "        elif chunks == \"3D\":\n",
    "            out.append(read_3D_chunks(variable, file_metadata,\n",
    "                                      use_mmap=use_mmap, use_dask=use_dask))\n",
    "\n",
    "    return out\n",
    "\n",
    "def read_3D_chunks(variable, file_metadata, use_mmap=False, use_dask=False):\n",
    "    \"\"\"\n",
    "    Return dask array for variable, from the file described by file_metadata,\n",
    "    reading 3D chunks. Not suitable for llc data.\n",
    "    Parameters\n",
    "    ----------\n",
    "    variable : string\n",
    "               name of the variable to read\n",
    "    file_metadata : dict\n",
    "               internal file_metadata for binary file\n",
    "    use_mmap : bool, optional\n",
    "               Whether to read the data using a numpy.memmap\n",
    "    use_dask : bool, optional\n",
    "               collect the data lazily or eagerly\n",
    "    Returns\n",
    "    -------\n",
    "    dask array for variable, with 3d (nz, ny, nx) chunks\n",
    "    or numpy.ndarray or memmap, depending on input args\n",
    "    \"\"\"\n",
    "\n",
    "    def load_chunk(rec):\n",
    "        return _read_xyz_chunk(variable, file_metadata,\n",
    "                               rec=rec,\n",
    "                               use_mmap=use_mmap)[None]\n",
    "\n",
    "    chunks = (1, file_metadata['nz'], file_metadata['ny'], file_metadata['nx'])\n",
    "    shape = (file_metadata['nt'], file_metadata['nz'],\n",
    "             file_metadata['ny'], file_metadata['nx'])\n",
    "    name = 'mds-' + tokenize(file_metadata, variable)\n",
    "\n",
    "    dsk = {(name, rec, 0, 0, 0): (load_chunk, rec)\n",
    "           for rec in range(file_metadata['nt'])}\n",
    "\n",
    "    data = dsa.Array(dsk, name, chunks,\n",
    "                     dtype=file_metadata['dtype'], shape=shape)\n",
    "\n",
    "    if not use_dask:\n",
    "        data = data.compute()\n",
    "\n",
    "    return data\n",
    "\n",
    "def _read_xyz_chunk(variable, file_metadata, rec=0, use_mmap=False):\n",
    "    \"\"\"\n",
    "    Read a 3d chunk (x,y,z) of variable from file described in\n",
    "    file_metadata.\n",
    "    Parameters\n",
    "    ----------\n",
    "    variable : string\n",
    "               name of the variable to read\n",
    "    file_metadata : dict\n",
    "               file_metadata for binary file\n",
    "    rec      : integer, optional\n",
    "               time record to read (default=0)\n",
    "    use_mmap : bool, optional\n",
    "               Whether to read the data using a numpy.memmap\n",
    "    Returns\n",
    "    -------\n",
    "    numpy array or memmap\n",
    "    \"\"\"\n",
    "\n",
    "    if file_metadata['has_faces'] and ((file_metadata['nx'] > 1) or\n",
    "                                       (file_metadata['ny'] > 1)):\n",
    "        raise ValueError(\"_read_xyz_chunk cannot be called with llc type grid\")\n",
    "\n",
    "    # size of the data element\n",
    "    nbytes = file_metadata['dtype'].itemsize\n",
    "    # byte order\n",
    "    file_metadata['datatype'] = file_metadata['dtype'].newbyteorder(\n",
    "        file_metadata['endian'])\n",
    "    # find index of variable\n",
    "    idx_var = file_metadata['vars'].index(variable)\n",
    "\n",
    "    # 1. compute offset_variable, init to zero\n",
    "    offset_vars = 0\n",
    "    # loop on variables before the one to read\n",
    "    for jvar in np.arange(idx_var):\n",
    "        # inspect its dimensions\n",
    "        dims = file_metadata['dims_vars'][jvar]\n",
    "        # compute the byte size of this variable\n",
    "        nbytes_thisvar = 1*nbytes\n",
    "        for dim in dims:\n",
    "            nbytes_thisvar = nbytes_thisvar*file_metadata[dim]\n",
    "        # update offset from previous variables\n",
    "        offset_vars = offset_vars+nbytes_thisvar\n",
    "\n",
    "    # 2. get dimensions of desired variable\n",
    "    dims = file_metadata['dims_vars'][idx_var]\n",
    "    # inquire for values of dimensions, else return 1\n",
    "    nt, nz, ny, nx = [file_metadata.get(dimname, 1)\n",
    "                      for dimname in ('nt', 'nz', 'ny', 'nx')]\n",
    "\n",
    "    # 3. compute offset from previous records of current variable\n",
    "    if (rec > nt-1):\n",
    "        raise ValueError(\"time record %g greater than number of records %g\" %\n",
    "                         (rec, nt))\n",
    "    else:\n",
    "        offset_timerecords = rec * nz * ny * nx * nbytes\n",
    "\n",
    "    # 4. compute the offset of the previous variables, records and levels\n",
    "    offset = offset_vars + offset_timerecords\n",
    "    shape = (nz, ny, nx,)\n",
    "\n",
    "    # check if we do a partial read of the file\n",
    "    if (nt > 1) or (len(file_metadata['vars']) > 1):\n",
    "        partial_read = True\n",
    "    else:\n",
    "        partial_read = False\n",
    "\n",
    "    # define the order (row/column major)\n",
    "    # in conventional grids, it's in C\n",
    "    order = 'C'\n",
    "\n",
    "    # 5. Do the actual read\n",
    "    data = read_raw_data(file_metadata['filename'],\n",
    "                         file_metadata['datatype'],\n",
    "                         shape, use_mmap=use_mmap, offset=offset,\n",
    "                         order=order, partial_read=partial_read)\n",
    "\n",
    "    return data\n",
    "\n",
    "def read_raw_data(datafile, dtype, shape, use_mmap=False, offset=0,\n",
    "                  order='C', partial_read=False):\n",
    "    \"\"\"Read a raw binary file and shape it.\n",
    "    PARAMETERS\n",
    "    ----------\n",
    "    datafile : str\n",
    "        Path to a .data file\n",
    "    dtype : numpy.dtype\n",
    "        Data type of the data\n",
    "    shape : tuple\n",
    "        Shape of the data\n",
    "    use_memmap : bool, optional\n",
    "        Whether to read the data using a numpy.memmap\n",
    "    offset : int, optional\n",
    "        Offset (in bytes) to apply on read\n",
    "    order : str, optional\n",
    "        Row/Column Major = 'C' or 'F'\n",
    "    partial_read : bool, optional\n",
    "        If reading part of the file\n",
    "    RETURNS\n",
    "    -------\n",
    "    data : numpy.ndarray\n",
    "        The data (or a memmap to it)\n",
    "    \"\"\"\n",
    "\n",
    "    number_of_values = reduce(lambda x, y: x * y, shape)\n",
    "    expected_number_of_bytes = number_of_values * dtype.itemsize\n",
    "    actual_number_of_bytes = os.path.getsize(datafile)\n",
    "    if not partial_read:\n",
    "        # first check that partial_read and offset are used together\n",
    "        if offset != 0:\n",
    "            raise ValueError(\n",
    "                'When partial_read==False, offset will not be read')\n",
    "        # second check to be sure there is the right number of bytes in file\n",
    "        if expected_number_of_bytes != actual_number_of_bytes:\n",
    "            raise IOError('File `%s` does not have the correct size '\n",
    "                          '(expected %g, found %g)' %\n",
    "                          (datafile,\n",
    "                           expected_number_of_bytes,\n",
    "                           actual_number_of_bytes))\n",
    "    else:\n",
    "        pass\n",
    "\n",
    "    if offset < actual_number_of_bytes:\n",
    "        pass\n",
    "    else:\n",
    "        raise ValueError('bytes offset %g is greater than file size %g' %\n",
    "                         (offset, actual_number_of_bytes))\n",
    "\n",
    "    with open(datafile, 'rb') as f:\n",
    "        if use_mmap:\n",
    "            data = np.memmap(f, dtype=dtype, mode='r', offset=offset,\n",
    "                             shape=tuple(shape), order=order)\n",
    "        else:\n",
    "            f.seek(offset)\n",
    "            data = np.fromfile(f, dtype=dtype, count=number_of_values)\n",
    "            data = data.reshape(shape, order=order)\n",
    "    data.shape = shape\n",
    "    return data\n",
    "\n",
    "def _pad_array(data, file_metadata, face=0):\n",
    "    \"\"\"\n",
    "    Return a padded array. If input data is a numpy.memmap and no padding\n",
    "    is necessary, the function preserves its type. Otherwise, the concatenate\n",
    "    forces it to load into memory.\n",
    "    Parameters\n",
    "    ----------\n",
    "    data          : numpy array or memmap\n",
    "                    input data\n",
    "    file_metadata : dict\n",
    "                    metadata for file\n",
    "    face          : int, optional\n",
    "                    llc face if applicable\n",
    "    Returns\n",
    "    -------\n",
    "    numpy.array or numpy.memmap\n",
    "    \"\"\"\n",
    "\n",
    "    # Pad data before in y direction\n",
    "    if 'pad_before_y' in file_metadata:\n",
    "        if file_metadata['has_faces']:\n",
    "            facet_origin = file_metadata['face_facets'][face]\n",
    "            nypad_before = file_metadata['pad_before_y'][facet_origin]\n",
    "        else:\n",
    "            nypad_before = file_metadata['pad_before_y']\n",
    "\n",
    "        pad_before = np.zeros((nypad_before, file_metadata['nx']))\n",
    "        data_padded_before = np.concatenate(\n",
    "            (pad_before, data), axis=0)\n",
    "    else:\n",
    "        data_padded_before = data\n",
    "\n",
    "    # Pad data after in y direction\n",
    "    if 'pad_after_y' in file_metadata:\n",
    "        if file_metadata['has_faces']:\n",
    "            facet_origin = file_metadata['face_facets'][face]\n",
    "            nypad_after = file_metadata['pad_after_y'][facet_origin]\n",
    "        else:\n",
    "            nypad_after = file_metadata['pad_after_y']\n",
    "\n",
    "        pad_after = np.zeros((nypad_after, file_metadata['nx']))\n",
    "        data_padded_after = np.concatenate(\n",
    "            (data_padded_before, pad_after), axis=0)\n",
    "    else:\n",
    "        data_padded_after = data_padded_before\n",
    "\n",
    "    return data_padded_after"
   ]
  },
  {
   "cell_type": "code",
   "execution_count": 75,
   "metadata": {},
   "outputs": [],
   "source": [
    "grid= get_xg_yg_from_input('/swot/SUM01/spencer/ECCO_diags/tile<NFACET>.mitgrid',\n",
    "                                         geometry='llc',tilex=tilex, tiley=tiley,\n",
    "                                         extra_metadata=llc90_extra_metadata,blankList=blankList)"
   ]
  },
  {
   "cell_type": "code",
   "execution_count": 76,
   "metadata": {},
   "outputs": [],
   "source": [
    "#what tile\n",
    "def tile_tree(grid,captile,totaltiles):\n",
    "    nodes3=np.stack((grid.XG.isel(i_g=[0,-1],j_g=[0,-1])[0:,:,:].values.ravel(),\n",
    "                 grid.YG.isel(i_g=[0,-1],j_g=[0,-1])[0:,:,:].values.ravel()),1)\n",
    "    if (captile>1):\n",
    "        #insert additional nodes after cap node to deal with cap\n",
    "\n",
    "        #52,142\n",
    "        nodes3=np.insert(nodes3, captile*4+2, [nodes3[captile*4][0], 90], axis=0)#the 90 here is 90 degrees\n",
    "        nodes3=np.insert(nodes3, captile*4+3, [nodes3[captile*4+1][0], 90], axis=0)\n",
    "\n",
    "        #52,-38\n",
    "        nodes3=np.insert(nodes3, captile*4+4, nodes3[captile*4], axis=0)#skip one and use the one in place\n",
    "        nodes3=np.insert(nodes3, captile*4+6, [nodes3[captile*4][0], 90], axis=0)\n",
    "        nodes3=np.insert(nodes3, captile*4+7, [nodes3[captile*4+5][0], 90], axis=0)\n",
    "\n",
    "        #-38,-128\n",
    "        nodes3=np.insert(nodes3, captile*4+8, nodes3[captile*4+5], axis=0)#skip one and use the one in place\n",
    "        nodes3=np.insert(nodes3, captile*4+10, [nodes3[captile*4+5][0], 90], axis=0)\n",
    "        nodes3=np.insert(nodes3, captile*4+11, [nodes3[captile*4+9][0], 90], axis=0)\n",
    "\n",
    "        #-128,142 \n",
    "        nodes3=np.insert(nodes3, captile*4+12, nodes3[captile*4+9], axis=0)#skip one and use the one in place\n",
    "        nodes3=np.insert(nodes3, captile*4+13, nodes3[captile*4+1], axis=0)\n",
    "        nodes3=np.insert(nodes3, captile*4+14, [nodes3[captile*4+9][0], 90], axis=0)\n",
    "        nodes3=np.insert(nodes3, captile*4+15, [nodes3[captile*4+1][0], 90], axis=0)\n",
    "    \n",
    "        col1=np.arange(0,totaltiles*4+12,4)\n",
    "    else:\n",
    "        col1=np.arange(0,totaltiles*4,4)\n",
    "    col2=col1+1\n",
    "    col3=col1+3\n",
    "    col4=col1+2\n",
    "    faces3 = np.stack((col1,col2,col3,col4),1)\n",
    "    faces = np.array(faces3, dtype=np.intc)\n",
    "    nodes = np.array(nodes3, dtype=np.float64)\n",
    "    #check if on dateline\n",
    "    #for tileon in range(0,faces.shape[0]):\n",
    "    #    xnodes=nodes[faces[tileon,:],0]\n",
    "    #    xdist=np.diff(xnodes)\n",
    "    #    if np.any(np.abs(xdist)>180):\n",
    "    #        xnodes[xnodes<0]=xnodes[xnodes<0]+360\n",
    "    #        nodes[faces[tileon,:],0]=xnodes\n",
    "    \n",
    "    griddiff=np.diff(nodes[faces][:,:,0])\n",
    "    r,c = np.where(np.abs(griddiff)>= 180)\n",
    "    xnodes=nodes[faces][r,:,0]\n",
    "    xnodes[xnodes<0]=xnodes[xnodes<0]+360\n",
    "    nodes[faces[r,:],0]=xnodes\n",
    "    \n",
    "    tiletree = cell_tree2d.CellTree(nodes, faces)\n",
    "    return tiletree\n",
    "\n",
    "def get_tile(tree,point,captile):\n",
    "    result = tree.locate(point)\n",
    "    #search for point: if point is not in domain, add 360 in x-dir and try again\n",
    "    point2=point.copy()\n",
    "    if result==-1:\n",
    "        point2[0]=point2[0]+360\n",
    "        result = tree.locate(point2)\n",
    "    \n",
    "    if (captile>1):\n",
    "        #interpret result: cap splits one tile into four\n",
    "        if (result>captile) & (result<captile+4):\n",
    "            result=captile\n",
    "        elif result>captile+3:\n",
    "            result=result-3\n",
    "    return result, point2\n",
    "\n",
    "def within_tile_tree(grid,tile,tilex,tiley):\n",
    "    nodes3=np.stack((grid.XG[tile,:,:].values.ravel(),grid.YG[tile,:,:].values.ravel()),1)\n",
    "    col_base=np.arange(0,(tilex+1)*tiley)\n",
    "    col1=np.asarray([item for item in col_base if(item+1) % (tilex+1)>0])[:-1]\n",
    "    col2=col1+1\n",
    "    col3=col1+tilex+2\n",
    "    col4=col1+tilex+1\n",
    "    faces3 = np.stack((col1,col2,col3,col4),1)\n",
    "    nodes = np.array(nodes3, dtype=np.float64)\n",
    "    faces = np.array(faces3, dtype=np.intc)\n",
    "    griddiff=np.diff(nodes[faces][:,:,0])\n",
    "    r,c = np.where(np.abs(griddiff)>= 180)\n",
    "    nodes2=nodes.copy()\n",
    "    if r.shape[0]>1:\n",
    "        xnodes=nodes[faces][:,:,0]\n",
    "        xnodes[xnodes<0]=xnodes[xnodes<0]+360\n",
    "        nodes2[faces[:,:],0]=xnodes\n",
    "    #xnodes=nodes[faces][r,:,0]\n",
    "    #xnodes[xnodes<0]=xnodes[xnodes<0]+360\n",
    "    #nodes[faces[r,:],0]=xnodes\n",
    "    tree = cell_tree2d.CellTree(nodes2, faces)\n",
    "    return tree"
   ]
  },
  {
   "cell_type": "code",
   "execution_count": null,
   "metadata": {},
   "outputs": [],
   "source": [
    "from math import isclose\n",
    "filename='/swot/SUM01/spencer/llc_floats/pickup_flt.0000000001'\n",
    "#captile=[30,33]\n",
    "tree=tile_tree(grid,captile,totaltiles)\n",
    "N=162\n",
    "jloc=np.zeros(N,dtype=int)\n",
    "iloc=np.zeros(N,dtype=int)\n",
    "tileit=np.zeros(N,dtype=int)\n",
    "dx=np.zeros(N,dtype=np.float64)\n",
    "dy=np.zeros(N,dtype=np.float64)\n",
    "pointx,pointy=np.meshgrid(np.arange(-179.51,179.51,20),np.arange(-89.51,89.51,20))\n",
    "\n",
    "#calculate tile tree for each tile\n",
    "tree_in_tile=np.empty(totaltiles+len(blankList),dtype=object)\n",
    "for tile in range(0,totaltiles):\n",
    "    tree_in_tile[tile]=within_tile_tree(grid,tile,tilex,tiley)\n",
    "for k in range(0,N):\n",
    "    point = np.array([np.ravel(pointx)[k]+0.5, np.ravel(pointy)[k]], dtype=np.float64) \n",
    "    tile,point2=get_tile(tree,point,captile)\n",
    "    if (tile!=-1):\n",
    "        #where are you in the tile?\n",
    "        #tree_in_tile=within_tile_tree(grid,tile,tilex,tiley)\n",
    "        result = tree_in_tile[tile][0].locate(point2)\n",
    "        if (result!=-1):\n",
    "            jloc[k]=result[0]//tilex\n",
    "            iloc[k]=result[0]-jloc[k]*tilex\n",
    "            tileit[k]=tile\n",
    "            xa=grid.XG[tileit[k],jloc[k],iloc[k]+1]-grid.XG[tileit[k],jloc[k],iloc[k]]\n",
    "            xb=grid.XG[tileit[k],jloc[k]+1,iloc[k]]-grid.XG[tileit[k],jloc[k],iloc[k]]\n",
    "            xc=(grid.XG[tileit[k],jloc[k]+1,iloc[k]+1]-grid.XG[tileit[k],jloc[k]+1,iloc[k]]\n",
    "               -grid.XG[tileit[k],jloc[k],iloc[k]+1]+grid.XG[tileit[k],jloc[k],iloc[k]])\n",
    "            xd=point[0]-grid.XG[tileit[k],jloc[k],iloc[k]]\n",
    "            if np.abs(xd)>10:\n",
    "                xd=point2[0]-grid.XG[tileit[k],jloc[k],iloc[k]]\n",
    "            ya=grid.YG[tileit[k],jloc[k],iloc[k]+1]-grid.YG[tileit[k],jloc[k],iloc[k]]\n",
    "            yb=grid.YG[tileit[k],jloc[k]+1,iloc[k]]-grid.YG[tileit[k],jloc[k],iloc[k]]\n",
    "            yc=(grid.YG[tileit[k],jloc[k]+1,iloc[k]+1]-grid.YG[tileit[k],jloc[k]+1,iloc[k]]\n",
    "               -grid.YG[tileit[k],jloc[k],iloc[k]+1]+grid.YG[tileit[k],jloc[k],iloc[k]])\n",
    "            yd=point[1]-grid.YG[tileit[k],jloc[k],iloc[k]]\n",
    "            ax=yc*xa-xc*ya\n",
    "            bx=xc*yd-ya*xb-yc*xd+xa*yb\n",
    "            cx=xb*yd-yb*xd\n",
    "            ay=xb*yc-yb*xc\n",
    "            by=yd*xc-xa*yb-xd*yc+ya*xb\n",
    "            cy=yd*xa-xd*ya\n",
    "            if ax==0:\n",
    "                dx1=-cx/bx\n",
    "            else:\n",
    "                dx1=(-bx+np.sqrt(bx**2-4*ax*cx))/2/ax\n",
    "                if (np.abs(dx1)>1+10**-8):\n",
    "                    dx1=(-bx-np.sqrt(bx**2-4*ax*cx))/2/ax\n",
    "            if ay==0:\n",
    "                dy1=-cy/by\n",
    "            else:\n",
    "                dy1=(-by+np.sqrt(by**2-4*ay*cy))/2/ay\n",
    "                if (np.abs(dy1)>1+10**-8):\n",
    "                    dy1=(-by-np.sqrt(by**2-4*ay*cy))/2/ay\n",
    "            dx[k]=dx1.values\n",
    "            dy[k]=dy1.values\n",
    "        \n",
    "            #can I get x and y back?\n",
    "            #xx = (grid.XG[tileit[k],jloc[k],iloc[k]] + dx[k]*xa\n",
    "            #              + dy[k]*xb\n",
    "            #          + dx[k]*dy[k]*xc)\n",
    "            \n",
    "#    yy = (grid.YG[tileit[k],jloc[k],iloc[k]] + dx*ya\n",
    "#                          + dy*yb\n",
    "#                      + dx*dy*yc)\n",
    "\n",
    "tstart=0\n",
    "iup=0\n",
    "ik=0.5\n",
    "itop=0\n",
    "kfloat=-0.5\n",
    "tend = -1\n",
    "output_dtype = np.dtype('>f8')\n",
    "float1=0\n",
    "    \n",
    "for tile in range(0,totaltiles):\n",
    "    N = len(tileit[tileit==tile])\n",
    "    flt_matrix = np.zeros((N+1,9), dtype=output_dtype)\n",
    "\n",
    "    flt_matrix[1:,0] = np.arange(N)+1+float1\n",
    "    flt_matrix[1:,1] = tstart\n",
    "    flt_matrix[1:,2] = iloc[tileit==tile]+dx[tileit==tile]\n",
    "    flt_matrix[1:,3] = jloc[tileit==tile]+dy[tileit==tile]\n",
    "    #print(dx[tileit==tile])\n",
    "    flt_matrix[1:,4] = ik\n",
    "    flt_matrix[1:,5] = kfloat\n",
    "    flt_matrix[1:,6] = iup\n",
    "    flt_matrix[1:,7] = itop\n",
    "    flt_matrix[1:,8] = tend\n",
    "\n",
    "    # first line in initialization file contains a record with\n",
    "    # - the number of floats on that tile in the first record\n",
    "    # - the total number of floats in the sixth record\n",
    "    \n",
    "    flt_matrix[0,0] = N;\n",
    "    flt_matrix[0,1] = -1\n",
    "    flt_matrix[0,4] = -1\n",
    "    flt_matrix[0,5] = N\n",
    "    flt_matrix[0,8] = -1\n",
    "    flt_matrix.tofile(filename + '.%03d' % (tile+1) + '.%03d' % 1 + '.data')\n",
    "    float1=float1+N"
   ]
  },
  {
   "cell_type": "code",
   "execution_count": 81,
   "metadata": {},
   "outputs": [],
   "source": [
    "import bcolz\n",
    "import floater.utils as utl\n",
    "utl.floats_to_bcolz('/swot/SUM01/spencer/llc_test_pickups','floatout',buf_dim=13)\n",
    "floatout=bcolz.open('floatout.bcolz/')\n",
    "floatout=floatout.todataframe()"
   ]
  },
  {
   "cell_type": "code",
   "execution_count": 82,
   "metadata": {},
   "outputs": [
    {
     "data": {
      "text/plain": [
       "array([ 63.,  64.,  65., 123.,  86.,  87.,  82.,  83.,  84.,  85., 148.,\n",
       "       146., 110., 111.,  34.,  38.,  33.,  95.,  50.,  51.,  52.,  89.,\n",
       "        90.,  68.,  73., 139., 140., 119., 120., 121., 151., 152., 153.,\n",
       "       154., 135., 136., 133., 134.,  37.,  41.,  93.,  94., 102., 103.,\n",
       "       104., 105.,  31.,  32.,  35.,  36.,  39.,  40.,  96.,  97.,  53.,\n",
       "        48.,  49.,  66.,  67.,  71.,  72.,  61.,  62., 124.,  80.,  81.,\n",
       "        88., 112., 113., 147.,  92., 106., 107., 108., 109.,  69.,  70.,\n",
       "        74.,  75., 122., 118.,  54.,  55., 131., 132., 137., 138., 149.,\n",
       "       150., 142., 143., 127., 128., 129., 130., 157., 158., 101.,  26.,\n",
       "       159., 160.,  59.,  60., 114., 115., 144.,  76.,  77.,  78.,  79.,\n",
       "        98.,  30.,  91.,  44.,  45.,  46.,  47., 100.,  27.,  28., 141.,\n",
       "       155., 156., 125., 126.,  56.,  57.,  99.,  29.,  42.,  43., 161.,\n",
       "       162.,  58., 145., 116., 117.])"
      ]
     },
     "execution_count": 82,
     "metadata": {},
     "output_type": "execute_result"
    }
   ],
   "source": [
    "floatout.npart.unique()"
   ]
  },
  {
   "cell_type": "code",
   "execution_count": 83,
   "metadata": {},
   "outputs": [
    {
     "data": {
      "text/plain": [
       "<matplotlib.axes._subplots.AxesSubplot at 0x7f53c8489518>"
      ]
     },
     "execution_count": 83,
     "metadata": {},
     "output_type": "execute_result"
    },
    {
     "data": {
      "image/png": "[encoded data removed]",
      "text/plain": [
       "<Figure size 432x288 with 2 Axes>"
      ]
     },
     "metadata": {
      "needs_background": "light"
     },
     "output_type": "display_data"
    }
   ],
   "source": [
    "floatout.plot.scatter('x','y',c='time',cmap='gnuplot',sharex=False)#.loc[floatout.npart==152]"
   ]
  },
  {
   "cell_type": "code",
   "execution_count": 15,
   "metadata": {},
   "outputs": [
    {
     "data": {
      "text/plain": [
       "array([[  2.        ,  -1.        ,   0.        ,   0.        ,\n",
       "         -1.        ,   2.        ,   0.        ,   0.        ,\n",
       "         -1.        ],\n",
       "       [181.        ,   0.        ,   8.30835296,  23.73096996,\n",
       "          0.5       ,  -0.5       ,   0.        ,   0.        ,\n",
       "         -1.        ],\n",
       "       [182.        ,   0.        ,  26.69239479,   4.20050488,\n",
       "          0.5       ,  -0.5       ,   0.        ,   0.        ,\n",
       "         -1.        ]])"
      ]
     },
     "execution_count": 15,
     "metadata": {},
     "output_type": "execute_result"
    }
   ],
   "source": [
    "import numpy as np\n",
    "np.fromfile('/swot/SUM01/spencer/llc_floats/pickup_flt.0000000001.046.001.data','>f8').reshape(-1,9)"
   ]
  },
  {
   "cell_type": "code",
   "execution_count": 62,
   "metadata": {},
   "outputs": [
    {
     "data": {
      "text/plain": [
       "array([3.50000e+01, 8.77200e+03, 3.15792e+07, 0.00000e+00, 0.00000e+00,\n",
       "       3.60000e+02, 9.00000e+00, 0.00000e+00, 0.00000e+00])"
      ]
     },
     "execution_count": 62,
     "metadata": {},
     "output_type": "execute_result"
    }
   ],
   "source": [
    "import numpy as np\n",
    "check=np.fromfile('/swot/SUM01/spencer/ECCO_flt_init/pickup_flt.0000008772.096.001.data','>f8').reshape(-1,9)\n",
    "check[0]"
   ]
  },
  {
   "cell_type": "code",
   "execution_count": 320,
   "metadata": {},
   "outputs": [
    {
     "data": {
      "text/plain": [
       "array(-9.96973018)"
      ]
     },
     "execution_count": 320,
     "metadata": {},
     "output_type": "execute_result"
    }
   ],
   "source": [
    "grid.YG[tile,:,:].max().values"
   ]
  },
  {
   "cell_type": "code",
   "execution_count": 139,
   "metadata": {},
   "outputs": [
    {
     "data": {
      "text/plain": [
       "[<matplotlib.lines.Line2D at 0x7f760c222a20>]"
      ]
     },
     "execution_count": 139,
     "metadata": {},
     "output_type": "execute_result"
    },
    {
     "data": {
      "image/png": "[encoded data removed]",
      "text/plain": [
       "<Figure size 432x288 with 1 Axes>"
      ]
     },
     "metadata": {
      "needs_background": "light"
     },
     "output_type": "display_data"
    }
   ],
   "source": [
    "plt.plot(nodes[8281:8281+8100-1,0],nodes[8281:8281+8100-1,1],'x')\n"
   ]
  },
  {
   "cell_type": "code",
   "execution_count": 47,
   "metadata": {},
   "outputs": [
    {
     "data": {
      "text/plain": [
       "array([[-108.47212793,  -88.16335017],\n",
       "       [-107.91524717,  -88.30251042]])"
      ]
     },
     "execution_count": 47,
     "metadata": {},
     "output_type": "execute_result"
    }
   ],
   "source": [
    "nodes3[91:93,:]"
   ]
  },
  {
   "cell_type": "code",
   "execution_count": 48,
   "metadata": {},
   "outputs": [
    {
     "data": {
      "text/plain": [
       "<xarray.DataArray 'XG' (face: 13, j_g: 91, i_g: 91)>\n",
       "dask.array<concatenate, shape=(13, 91, 91), dtype=float64, chunksize=(1, 91, 91), chunktype=numpy.ndarray>\n",
       "Coordinates:\n",
       "  * i_g      (i_g) int64 0 1 2 3 4 5 6 7 8 9 ... 81 82 83 84 85 86 87 88 89 90\n",
       "  * j_g      (j_g) int64 0 1 2 3 4 5 6 7 8 9 ... 81 82 83 84 85 86 87 88 89 90\n",
       "  * face     (face) int64 0 1 2 3 4 5 6 7 8 9 10 11 12"
      ]
     },
     "execution_count": 48,
     "metadata": {},
     "output_type": "execute_result"
    }
   ],
   "source": [
    "grid.XG[0,1,0:2].values"
   ]
  },
  {
   "cell_type": "code",
   "execution_count": 263,
   "metadata": {},
   "outputs": [
    {
     "data": {
      "text/plain": [
       "<matplotlib.colorbar.Colorbar at 0x7fa48e339470>"
      ]
     },
     "execution_count": 263,
     "metadata": {},
     "output_type": "execute_result"
    },
    {
     "data": {
      "image/png": "[encoded data removed]",
      "text/plain": [
       "<Figure size 432x288 with 2 Axes>"
      ]
     },
     "metadata": {
      "needs_background": "light"
     },
     "output_type": "display_data"
    }
   ],
   "source": [
    "cs=plt.contourf(griddata.reshape(16,-1,91)[5,:,:])\n",
    "plt.colorbar(cs)\n"
   ]
  },
  {
   "cell_type": "code",
   "execution_count": 22,
   "metadata": {},
   "outputs": [],
   "source": [
    "datadir='/swot/SUM01/spencer/ECCO_singlegrid/'\n",
    "griddata=np.fromfile(datadir+'YG.010.001.data','>f4')\n",
    "griddata=griddata.reshape(30,30)\n"
   ]
  },
  {
   "cell_type": "code",
   "execution_count": 23,
   "metadata": {},
   "outputs": [
    {
     "data": {
      "text/plain": [
       "<matplotlib.colorbar.Colorbar at 0x7efcec018080>"
      ]
     },
     "execution_count": 23,
     "metadata": {},
     "output_type": "execute_result"
    },
    {
     "data": {
      "image/png": "[encoded data removed]",
      "text/plain": [
       "<Figure size 432x288 with 2 Axes>"
      ]
     },
     "metadata": {
      "needs_background": "light"
     },
     "output_type": "display_data"
    }
   ],
   "source": [
    "cs=plt.contourf(griddata)\n",
    "plt.colorbar(cs)"
   ]
  },
  {
   "cell_type": "code",
   "execution_count": 502,
   "metadata": {},
   "outputs": [
    {
     "data": {
      "text/plain": [
       "<matplotlib.collections.QuadMesh at 0x7f370e515208>"
      ]
     },
     "execution_count": 502,
     "metadata": {},
     "output_type": "execute_result"
    },
    {
     "data": {
      "image/png": "[encoded data removed]",
      "text/plain": [
       "<Figure size 432x288 with 2 Axes>"
      ]
     },
     "metadata": {
      "needs_background": "light"
     },
     "output_type": "display_data"
    }
   ],
   "source": [
    "grid.sel(tile=0).XG.plot()"
   ]
  },
  {
   "cell_type": "code",
   "execution_count": 264,
   "metadata": {},
   "outputs": [
    {
     "data": {
      "text/plain": [
       "-28.80116"
      ]
     },
     "execution_count": 264,
     "metadata": {},
     "output_type": "execute_result"
    }
   ],
   "source": [
    "griddata[10,20]"
   ]
  },
  {
   "cell_type": "code",
   "execution_count": 157,
   "metadata": {},
   "outputs": [
    {
     "data": {
      "text/plain": [
       "180.01"
      ]
     },
     "execution_count": 157,
     "metadata": {},
     "output_type": "execute_result"
    }
   ],
   "source": [
    "-179.99+360"
   ]
  },
  {
   "cell_type": "code",
   "execution_count": null,
   "metadata": {},
   "outputs": [],
   "source": []
  }
 ],
 "metadata": {
  "kernelspec": {
   "display_name": "Python [conda env:testing]",
   "language": "python",
   "name": "conda-env-testing-py"
  },
  "language_info": {
   "codemirror_mode": {
    "name": "ipython",
    "version": 3
   },
   "file_extension": ".py",
   "mimetype": "text/x-python",
   "name": "python",
   "nbconvert_exporter": "python",
   "pygments_lexer": "ipython3",
   "version": "3.6.7"
  }
 },
 "nbformat": 4,
 "nbformat_minor": 2
}
